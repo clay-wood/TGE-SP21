{
 "cells": [
  {
   "cell_type": "code",
   "execution_count": 1,
   "metadata": {
    "tags": []
   },
   "outputs": [],
   "source": [
    "import numpy as np\n",
    "import matplotlib.pyplot as plt\n",
    "import ipywidgets as widgets\n",
    "from IPython.display import display\n",
    "from scipy.interpolate import interp1d\n",
    "\n",
    "%matplotlib widget"
   ]
  },
  {
   "cell_type": "code",
   "execution_count": 2,
   "metadata": {},
   "outputs": [],
   "source": [
    "def waveform(sampling_rate,freq,amp=1):\n",
    "    '''\n",
    "    This function create a sinusoidal waveform by solving the wave equation\n",
    "    The time interval by default is 10\n",
    "    Input parameters: \n",
    "    - the sampling rate of the sample \n",
    "    - the desired frequency \n",
    "    - amplitude of the signal (default 1)\n",
    "    Return: \n",
    "    two arrays of signal and time\n",
    "    '''\n",
    "    time = np.arange(0,6,sampling_rate)\n",
    "    phase = 0\n",
    "    signal = amp*np.sin(2*np.pi*(freq*time+phase))\n",
    "    return signal, time"
   ]
  },
  {
   "cell_type": "code",
   "execution_count": 3,
   "metadata": {},
   "outputs": [
    {
     "data": {
      "application/vnd.jupyter.widget-view+json": {
       "model_id": "d285085790284ea3a8ce0c31d3f43658",
       "version_major": 2,
       "version_minor": 0
      },
      "text/plain": [
       "Canvas(toolbar=Toolbar(toolitems=[('Home', 'Reset original view', 'home', 'home'), ('Back', 'Back to previous …"
      ]
     },
     "metadata": {},
     "output_type": "display_data"
    },
    {
     "data": {
      "application/vnd.jupyter.widget-view+json": {
       "model_id": "6804db05888c406faa0a0f36027cf9c9",
       "version_major": 2,
       "version_minor": 0
      },
      "text/plain": [
       "interactive(children=(FloatText(value=2.0, description='bit depth:', step=1.0), Output()), _dom_classes=('widg…"
      ]
     },
     "metadata": {},
     "output_type": "display_data"
    }
   ],
   "source": [
    "fig, ax1 = plt.subplots(1, 1, figsize=(10, 4))\n",
    "ax2 = ax1.twinx()\n",
    "\n",
    "def update_plot(bit):\n",
    "    \n",
    "    ax1.clear()\n",
    "    ax2.clear()\n",
    "    \n",
    "    # generate analog signal\n",
    "    signal,time=waveform(0.001,1)\n",
    "    \n",
    "    # sample the signal \n",
    "    sampling_freq = 100\n",
    "    sampling_rate = int((1/sampling_freq)*1000)\n",
    "    sampled_100Hz = signal[::sampling_rate]\n",
    "    time_100Hz = time[::sampling_rate]\n",
    "    # sample and hold \n",
    "    f = interp1d(time_100Hz,sampled_100Hz,kind='previous')\n",
    "    xnew = np.arange(0,5,0.01)\n",
    "    \n",
    "    #bit = 2 this is the variable parameter\n",
    "    quant_levels = 2**bit\n",
    "    step_size = 2 / quant_levels # 2 [V] range\n",
    "    quantize = np.arange(-1,1,step_size) # array to show the levels in the plot\n",
    "    \n",
    "    quantize_mag = np.array([])\n",
    "\n",
    "    for i in (sampled_100Hz):\n",
    "        foo = (i-np.min((sampled_100Hz)))/step_size\n",
    "        index_value = int(round(foo))\n",
    "        foo = np.min(sampled_100Hz)+(index_value*step_size)\n",
    "        if foo>(1-step_size): # if the values are greater than the maximum quantum level assign the maximum quantum level (1-step_size)\n",
    "            foo = (1-step_size)\n",
    "        quantize_mag = np.append(quantize_mag,foo)\n",
    "    \n",
    "    quant_int = interp1d(time_100Hz,quantize_mag,kind='previous')\n",
    "    \n",
    "    # set up the plot    \n",
    "    ax1.scatter(time_100Hz,sampled_100Hz,c='r')\n",
    "    ax1.plot(xnew,f(xnew),'r--', label='sampled signal')\n",
    "    ax1.plot(time,signal,'k',label='analog signal')\n",
    "    ax1.plot(xnew,quant_int(xnew),'b', label='quantized signal')\n",
    "    ax1.scatter(time_100Hz,quantize_mag,c='b')\n",
    "\n",
    "    ax1.set_xlim([0,2])\n",
    "    ax1.set_ylim([-1.1,1.1])\n",
    "    ax1.set_xlabel('Time [s]')\n",
    "    ax1.set_ylabel('Amplitude [V]')\n",
    "    ax1.legend(loc='upper right')\n",
    "\n",
    "    #second axis\n",
    "    if bit <= 8:\n",
    "        for i in quantize:\n",
    "            ax2.axhline(i,color='k',linestyle='--',alpha=0.3)\n",
    "    ax2.set_ylim([-1.1,1.1])\n",
    "    ax2.set_yticks(quantize)\n",
    "    ax2.set_yticklabels([])\n",
    "    ax2.set_ylabel('Quantized levels %s-bit depth'%int(bit))\n",
    "    plt.tight_layout()\n",
    "    plt.show()\n",
    "\n",
    "    \n",
    "bit = widgets.FloatText(min=2, max=10, value=2,step=1, description='bit depth:')\n",
    "widgets.interactive(update_plot, bit=bit)"
   ]
  },
  {
   "cell_type": "markdown",
   "metadata": {},
   "source": [
    "## Now, let's calculate the signal error ##"
   ]
  },
  {
   "cell_type": "code",
   "execution_count": 4,
   "metadata": {},
   "outputs": [
    {
     "data": {
      "application/vnd.jupyter.widget-view+json": {
       "model_id": "c4d50533678f4667800f708dedf46bd2",
       "version_major": 2,
       "version_minor": 0
      },
      "text/plain": [
       "Canvas(toolbar=Toolbar(toolitems=[('Home', 'Reset original view', 'home', 'home'), ('Back', 'Back to previous …"
      ]
     },
     "metadata": {},
     "output_type": "display_data"
    },
    {
     "data": {
      "application/vnd.jupyter.widget-view+json": {
       "model_id": "4a31e8ab90684c5a9a5a818bc403bfb0",
       "version_major": 2,
       "version_minor": 0
      },
      "text/plain": [
       "interactive(children=(FloatText(value=2.0, description='bit depth:', step=1.0), Output()), _dom_classes=('widg…"
      ]
     },
     "metadata": {},
     "output_type": "display_data"
    }
   ],
   "source": [
    "fig, (ax1, ax3) = plt.subplots(2, 1, figsize=(10, 7), sharex=True, gridspec_kw={'height_ratios': [3, 2]})\n",
    "ax2 = ax1.twinx()\n",
    "\n",
    "def update_plot(bit):\n",
    "    \n",
    "    ax1.clear()\n",
    "    ax2.clear()\n",
    "    ax3.clear()\n",
    "    \n",
    "    # generate analog signal\n",
    "    amplitude = 1\n",
    "    signal,time=waveform(0.001,amplitude)\n",
    "    \n",
    "    # sample the signal \n",
    "    sampling_freq = 100\n",
    "    sampling_rate = int((1/sampling_freq)*1000)\n",
    "    sampled_100Hz = signal[::sampling_rate]\n",
    "    time_100Hz = time[::sampling_rate]\n",
    "    \n",
    "    # sample and hold \n",
    "    f = interp1d(time_100Hz,sampled_100Hz,kind='previous')\n",
    "    xnew = np.arange(0,5,0.01)\n",
    "    \n",
    "    #bit = 2 this is the variable parameter\n",
    "    quant_levels = 2**bit\n",
    "    step_size = 2 / quant_levels # 2 [V] range\n",
    "    quantize = np.arange(-1,1,step_size) # array to show the levels in the plot\n",
    "    \n",
    "    quantize_mag = np.array([])\n",
    "\n",
    "    for i in (sampled_100Hz):\n",
    "        foo = (i-np.min((sampled_100Hz)))/step_size\n",
    "        index_value = int(round(foo))\n",
    "        foo = np.min(sampled_100Hz)+(index_value*step_size)\n",
    "        if foo>(1-step_size): # if the values are greater than the maximum quantum level assign the maximum quantum level (1-step_size)\n",
    "            foo = (1-step_size)\n",
    "        quantize_mag = np.append(quantize_mag,foo)\n",
    "    \n",
    "    quant_int = interp1d(time_100Hz,quantize_mag,kind='previous')\n",
    "    \n",
    "    # CALCULATE ERROR BETWEEN SAMPLED SIGNAL AND QUANTIZED SIGNAL\n",
    "    error = \n",
    "    \n",
    "    # CALCULATE SIGNAL TO NOISE RATIO (SNR)\n",
    "    # FIRST: CALCULATE MEAN POWER OF INPUT SIGNAL -- Ps\n",
    "    # SECOND: CALCULATE MEAN POWER OR VARIANCE OF QUANTIZATION RROR -- Pe\n",
    "    # SNR = Ps/Pe\n",
    "    \n",
    "    Ps = \n",
    "    Pe = \n",
    "    SNR = \n",
    "    \n",
    "    # set up the plot    \n",
    "    ax1.scatter(time_100Hz,sampled_100Hz,c='r')\n",
    "    ax1.plot(xnew,f(xnew),'r--', label='sampled signal')\n",
    "    ax1.plot(time,signal,'k',label='analog signal')\n",
    "    ax1.plot(xnew,quant_int(xnew),'b', label='quantized signal')\n",
    "    ax1.scatter(time_100Hz,quantize_mag,c='b')\n",
    "\n",
    "    ax1.set_xlim([0,2])\n",
    "    ax1.set_ylim([-1.1,1.1])\n",
    "    ax1.set_xlabel('Time [s]')\n",
    "    ax1.set_ylabel('Amplitude [V]')\n",
    "    ax1.legend(loc='upper right')\n",
    "\n",
    "    #second axis -- double y-axis for first plot\n",
    "    if bit <= 8:\n",
    "        for i in quantize:\n",
    "            ax2.axhline(i,color='k',linestyle='--',alpha=0.3)\n",
    "    ax2.set_ylim([-1.1,1.1])\n",
    "    ax2.set_yticks(quantize)\n",
    "    ax2.set_yticklabels([])\n",
    "    ax2.set_ylabel('Quantized levels %s-bit depth'%int(bit))\n",
    "    \n",
    "    #third axis -- for second plot\n",
    "    ax3.scatter(xnew, error, c='k')\n",
    "    ax3.plot(xnew, error, c='gray', label='SNR = '+str(SNR)+', or '+str(round(10*np.log10(SNR),2))+' dB')\n",
    "    ax3.set_xlim([0,2])\n",
    "    ax3.set_ylim([-0.7,0.7])\n",
    "    ax3.set_xlabel('Time [s]')\n",
    "    ax3.set_ylabel('Error [V]')\n",
    "    ax3.legend(loc='upper right')\n",
    "    \n",
    "    plt.tight_layout()\n",
    "    plt.show()\n",
    "    \n",
    "\n",
    "    \n",
    "#     print('SNR = '+str(SNR)+', or '+str(round(10*np.log10(SNR,2))+' dB')\n",
    "\n",
    "    \n",
    "bit = widgets.FloatText(min=2, max=10, value=2,step=1, description='bit depth:')\n",
    "widgets.interactive(update_plot, bit=bit)"
   ]
  },
  {
   "cell_type": "code",
   "execution_count": null,
   "metadata": {},
   "outputs": [],
   "source": []
  }
 ],
 "metadata": {
  "kernelspec": {
   "display_name": "Python 3",
   "language": "python",
   "name": "python3"
  },
  "language_info": {
   "codemirror_mode": {
    "name": "ipython",
    "version": 3
   },
   "file_extension": ".py",
   "mimetype": "text/x-python",
   "name": "python",
   "nbconvert_exporter": "python",
   "pygments_lexer": "ipython3",
   "version": "3.9.4"
  }
 },
 "nbformat": 4,
 "nbformat_minor": 4
}

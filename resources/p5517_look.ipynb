{
 "cells": [
  {
   "cell_type": "code",
   "execution_count": 1,
   "metadata": {},
   "outputs": [],
   "source": [
    "from pylook.units import units\n",
    "import pylook.calc as lc\n",
    "from pylook.io import read_binary\n",
    "import numpy as np\n",
    "import pandas as pd\n",
    "import matplotlib.pyplot as plt\n",
    "import ipywidgets as widgets\n",
    "\n",
    "%matplotlib widget"
   ]
  },
  {
   "cell_type": "code",
   "execution_count": 2,
   "metadata": {},
   "outputs": [],
   "source": [
    "data_path = 'p5517TPEclassl'\n",
    "\n",
    "data, _ = read_binary(data_path)\n",
    "\n",
    "data = pd.DataFrame.from_dict(data)"
   ]
  },
  {
   "cell_type": "code",
   "execution_count": 3,
   "metadata": {},
   "outputs": [],
   "source": [
    "data['Time'] = np.cumsum(data['Time']/10000)\n",
    "\n",
    "data['shr disp'] = data.pop('Vert DCDT')\n",
    "data['shr stress'] = data.pop('Vert LOAD')"
   ]
  },
  {
   "cell_type": "code",
   "execution_count": 4,
   "metadata": {},
   "outputs": [],
   "source": [
    "# SAMPLE TYPE: Westerly Granite, cylinder\n",
    "# SAMPLE DIMENSIONS: Dia = 0.05225 m, height = 0.06 m\n",
    "# SURFACE AREA = \n",
    "SA = (0.02525/2)**2 * np.pi\n",
    "\n",
    "\n",
    "# CALIBRATIONS FOR DISPLACEMENTS AND STRESSES\n",
    "#---------------------------------------------------------------------------------------\n",
    "\n",
    "# VERTICAL DISPLACEMENT\n",
    "# high gain 0.56957339 mm/V\n",
    "v_disp_calib = (20/2**24)  * 0.56957339 * 1000 #um/mm \n",
    "data['shr disp'] = data['shr disp'] * v_disp_calib \n",
    "\n",
    "# VERTICAL LOAD\n",
    "# low gain: 12.9 mV/kN\n",
    "# area: 0.0022292545 m^2\n",
    "v_load_calib = 12.9 * SA * (2**24/20)\n",
    "data['shr stress'] = data['shr stress'] * 1/v_load_calib                                   "
   ]
  },
  {
   "cell_type": "code",
   "execution_count": 5,
   "metadata": {},
   "outputs": [
    {
     "data": {
      "application/vnd.jupyter.widget-view+json": {
       "model_id": "5d265d60fe4b4354be5041822761a2e8",
       "version_major": 2,
       "version_minor": 0
      },
      "text/plain": [
       "Canvas(toolbar=Toolbar(toolitems=[('Home', 'Reset original view', 'home', 'home'), ('Back', 'Back to previous …"
      ]
     },
     "metadata": {},
     "output_type": "display_data"
    }
   ],
   "source": [
    "fig, ax1 = plt.subplots(1, 1, figsize=(10, 4)) # create figure\n",
    "ax1.plot(data['shr disp'], '-r') # can replace with 'shr stress'\n",
    "ax1.set_ylabel('shr disp ($\\mu m$)')\n",
    "ax1.set_xlabel('record #')\n",
    "plt.show()"
   ]
  },
  {
   "cell_type": "code",
   "execution_count": 6,
   "metadata": {},
   "outputs": [],
   "source": [
    "data = data.drop(data.index[2546:3693]) # I don't need all of this data -- nothing is happening"
   ]
  },
  {
   "cell_type": "code",
   "execution_count": 7,
   "metadata": {},
   "outputs": [],
   "source": [
    "# OFFSETS AND ZERO POINTS\n",
    "\n",
    "# SHR DISP\n",
    "data['shr disp'] = lc.zero(data['shr disp'], 668, mode='before')\n",
    "\n",
    "# SHR STRESS\n",
    "data['shr stress'] = lc.zero(data['shr stress'], 770, mode='before')"
   ]
  },
  {
   "cell_type": "code",
   "execution_count": 8,
   "metadata": {},
   "outputs": [
    {
     "data": {
      "application/vnd.jupyter.widget-view+json": {
       "model_id": "a20769d8549b4fffa541d783f45e317b",
       "version_major": 2,
       "version_minor": 0
      },
      "text/plain": [
       "Canvas(toolbar=Toolbar(toolitems=[('Home', 'Reset original view', 'home', 'home'), ('Back', 'Back to previous …"
      ]
     },
     "metadata": {},
     "output_type": "display_data"
    }
   ],
   "source": [
    "fig, (ax1, ax2) = plt.subplots(2, 1, figsize=(10, 8), sharex=True) # create figure with 2 subplots -- ax1, ax2\n",
    "ax1.plot(data['Time'], data['shr disp'], color='darkolivegreen') # plot shr disp\n",
    "ax2.plot(data['Time'], data['shr stress'], color='mediumblue') # plot shr stress\n",
    "# AXES LABELS\n",
    "ax1.set_ylabel('shear disp. ($\\mu m$)')\n",
    "ax2.set_xlabel('time (s)')\n",
    "ax2.set_ylabel('shear stress (MPa)')\n",
    "\n",
    "plt.show()"
   ]
  },
  {
   "cell_type": "code",
   "execution_count": 9,
   "metadata": {},
   "outputs": [],
   "source": [
    "# CALCULATE STRAIN\n",
    "# e = (L0 - l)/L0\n",
    "L0 = 60*1e3 #60 mm to um\n",
    "\n",
    "data['strain'] = (1 - (L0 - data['shr disp'])/L0) #axial strain"
   ]
  },
  {
   "cell_type": "code",
   "execution_count": 10,
   "metadata": {},
   "outputs": [
    {
     "data": {
      "application/vnd.jupyter.widget-view+json": {
       "model_id": "c388b71da5104f2896550b2e1338f60c",
       "version_major": 2,
       "version_minor": 0
      },
      "text/plain": [
       "Canvas(toolbar=Toolbar(toolitems=[('Home', 'Reset original view', 'home', 'home'), ('Back', 'Back to previous …"
      ]
     },
     "metadata": {},
     "output_type": "display_data"
    }
   ],
   "source": [
    "fig, ax1 = plt.subplots(1, 1, figsize=(10, 8))\n",
    "ax1.plot(data['strain'][0:2344]*100, data['shr stress'][0:2344], '-r') # multiple strain by 100 for unit percent\n",
    "ax1.set_xlabel('axial strain (%)')\n",
    "ax1.set_ylabel('axial stress (MPa)')\n",
    "plt.show()"
   ]
  },
  {
   "cell_type": "code",
   "execution_count": 11,
   "metadata": {},
   "outputs": [],
   "source": [
    "# CALCULATE YOUNG'S MODULUS -- don't change\n",
    "\n",
    "def YoungModCalc(dat_idx1, dat_idx2, idx1, idx2):\n",
    "\n",
    "    str_idx1 = np.where(np.isclose(data['strain'][dat_idx1:dat_idx2], idx1, rtol=1e-2))[0][0] # get index for strain = idx1\n",
    "    str_idx2 = np.where(np.isclose(data['strain'][dat_idx1:dat_idx2], idx2, rtol=1e-2))[0][0] # get index for strain = idx2\n",
    "\n",
    "    p = np.polyfit(data['strain'][dat_idx1:dat_idx2][str_idx1:str_idx2], data['shr stress'][dat_idx1:dat_idx2][str_idx1:str_idx2], 1) # regression in the linear stress-strain region\n",
    "    YoungMod = p[0]/1000 # this is the slope, Young's Modulus (GPa)\n",
    "\n",
    "    ax_str = np.linspace(idx1, idx2, 100) # axial strain array\n",
    "    YoungModFit = np.poly1d(p)(ax_str) # y-values from linear regression\n",
    "    \n",
    "    # PLOT THE RESULTS\n",
    "    fig, ax1 = plt.subplots(1, 1, figsize=(10, 8))\n",
    "    ax1.plot(data['strain'][dat_idx1:dat_idx2]*100, data['shr stress'][dat_idx1:dat_idx2], '-r') # multiple strain by 100 for unit percent\n",
    "    ax1.plot(ax_str*100, YoungModFit, '-b', label='E = '+str(round(YoungMod,3))+' GPa')\n",
    "    ax1.set_xlabel('axial strain (%)')\n",
    "    ax1.set_ylabel('axial stress (MPa)')\n",
    "    plt.legend()\n",
    "    plt.show()\n",
    "    \n",
    "    return YoungMod, YoungModFit, ax_str"
   ]
  },
  {
   "cell_type": "code",
   "execution_count": 12,
   "metadata": {},
   "outputs": [
    {
     "data": {
      "application/vnd.jupyter.widget-view+json": {
       "model_id": "9b2c75b417ca4e76b72196ce06ef107a",
       "version_major": 2,
       "version_minor": 0
      },
      "text/plain": [
       "Canvas(toolbar=Toolbar(toolitems=[('Home', 'Reset original view', 'home', 'home'), ('Back', 'Back to previous …"
      ]
     },
     "metadata": {},
     "output_type": "display_data"
    }
   ],
   "source": [
    "# indices 0 --> 2344 seems to be the most relevant window for the stress-strain curve\n",
    "\n",
    "YoungMod, YoungModFit, ax_str = YoungModCalc(0, 2344, 0.008, 0.013)"
   ]
  },
  {
   "cell_type": "code",
   "execution_count": null,
   "metadata": {},
   "outputs": [],
   "source": []
  }
 ],
 "metadata": {
  "kernelspec": {
   "display_name": "Python 3",
   "language": "python",
   "name": "python3"
  },
  "language_info": {
   "codemirror_mode": {
    "name": "ipython",
    "version": 3
   },
   "file_extension": ".py",
   "mimetype": "text/x-python",
   "name": "python",
   "nbconvert_exporter": "python",
   "pygments_lexer": "ipython3",
   "version": "3.9.4"
  },
  "toc-autonumbering": true,
  "toc-showcode": true,
  "toc-showmarkdowntxt": true,
  "toc-showtags": false
 },
 "nbformat": 4,
 "nbformat_minor": 4
}
